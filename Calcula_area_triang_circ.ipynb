{
  "nbformat": 4,
  "nbformat_minor": 0,
  "metadata": {
    "colab": {
      "name": "Calcula_area_triang_circ",
      "version": "0.3.2",
      "provenance": [],
      "include_colab_link": true
    },
    "kernelspec": {
      "name": "python3",
      "display_name": "Python 3"
    }
  },
  "cells": [
    {
      "cell_type": "markdown",
      "metadata": {
        "id": "view-in-github",
        "colab_type": "text"
      },
      "source": [
        "[View in Colaboratory](https://colab.research.google.com/github/Lu-Brito/python-guide/blob/master/Calcula_area_triang_circ.ipynb)"
      ]
    },
    {
      "metadata": {
        "id": "lOs-HR90h6v7",
        "colab_type": "code",
        "colab": {
          "base_uri": "https://localhost:8080/",
          "height": 77
        },
        "outputId": "bc1df382-3637-4b5f-f84e-aa2dc5aeaa45"
      },
      "cell_type": "code",
      "source": [
        "#this program helps to achive the area of a shape\n",
        "\n",
        "print('You can calculate, now!')\n",
        "shape = input ('tell me what kinda shape do you want to calculate the area? ')\n",
        "\n",
        "if shape == 'C':\n",
        "  print ('Ok, you wanna a circle!')\n",
        "  radius = float(input ('give the radius, please: '))\n",
        "  area = 3.14159 * radius**2\n",
        "  print ('The area is %s.', area)\n",
        "elif shape == 'T':\n",
        "\t#print ('Ok, you wanna a triangle!')\n",
        "  base = float(input('Enter the base of the triangle, please: '))\n",
        "  height = float(input('Enter the height of the triangle, please: '))\n",
        "  area = (base * height)/2\n",
        "  print ('The area is %s.',area)\n",
        "else:\n",
        "  print ('Error 404: not found')\n",
        "print ('The program is exiting! Thank you, come agaain!')"
      ],
      "execution_count": 0,
      "outputs": [
        {
          "output_type": "stream",
          "text": [
            "You can calculate, now!\n"
          ],
          "name": "stdout"
        }
      ]
    }
  ]
}